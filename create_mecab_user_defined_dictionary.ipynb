{
 "cells": [
  {
   "cell_type": "markdown",
   "metadata": {},
   "source": [
    "### Create user defined dictionary for Meab\n",
    "\n",
    "```\n",
    "/usr/local/Cellar/mecab/0.996/libexec/mecab/mecab-dict-index -d /usr/local/lib/mecab/dic/ipadic -u weblio_legal_terms.dic -f utf-8 -t utf-8 dict/weblio_legal_terms.csv\n",
    "```\n",
    "\n",
    "### Configure  /usr/local/etc/mecabrc \n",
    "```\n",
    "ex. /home/foo/bar/foo.dic\n",
    "userdic = /home/foo/bar/foo.dic\n",
    "```\n"
   ]
  }
 ],
 "metadata": {
  "kernelspec": {
   "display_name": "Python 3",
   "language": "python",
   "name": "python3"
  },
  "language_info": {
   "codemirror_mode": {
    "name": "ipython",
    "version": 3
   },
   "file_extension": ".py",
   "mimetype": "text/x-python",
   "name": "python",
   "nbconvert_exporter": "python",
   "pygments_lexer": "ipython3",
   "version": "3.6.5"
  }
 },
 "nbformat": 4,
 "nbformat_minor": 2
}
