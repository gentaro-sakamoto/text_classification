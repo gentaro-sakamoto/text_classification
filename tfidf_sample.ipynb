{
 "cells": [
  {
   "cell_type": "code",
   "execution_count": 37,
   "metadata": {},
   "outputs": [
    {
     "name": "stdout",
     "output_type": "stream",
     "text": [
      "words by document\n",
      "[['apple', 'orange', 'dog', 'cat', 'swim', 'orange'], ['apple', 'banana'], ['apple', 'grape'], ['apple', 'lemmon']]\n",
      "Dictionary(8 unique tokens: ['apple', 'cat', 'dog', 'orange', 'swim']...)\n",
      "{'apple': 0, 'cat': 1, 'dog': 2, 'orange': 3, 'swim': 4, 'banana': 5, 'grape': 6, 'lemmon': 7}\n",
      "[[(0, 1), (1, 1), (2, 1), (3, 2), (4, 1)], [(0, 1), (5, 1)], [(0, 1), (6, 1)], [(0, 1), (7, 1)]]\n",
      "TfidfModel(num_docs=4, num_nnz=11)\n",
      "[(1, 0.3779644730092272), (2, 0.3779644730092272), (3, 0.7559289460184544), (4, 0.3779644730092272)]\n",
      "[(5, 1.0)]\n",
      "[(6, 1.0)]\n",
      "[(7, 1.0)]\n"
     ]
    }
   ],
   "source": [
    "import gensim.downloader as api\n",
    "from gensim.models import TfidfModel\n",
    "from gensim.corpora import Dictionary\n",
    "\n",
    "documents = [\n",
    "    'apple orange dog cat swim orange',\n",
    "    'apple banana',\n",
    "    'apple grape',\n",
    "    'apple lemmon',\n",
    "]\n",
    "\n",
    "texts = [[word for word in document.split()] for document in documents]\n",
    "print('words by document')\n",
    "print(texts)\n",
    "\n",
    "dictionary = Dictionary(texts)\n",
    "print(dictionary)\n",
    "\n",
    "corpus = [dictionary.doc2bow(text) for text in texts]\n",
    "print(dictionary.token2id)\n",
    "print(corpus)\n",
    "\n",
    "tfidf_model = TfidfModel(corpus)\n",
    "print(tfidf_model)\n",
    "\n",
    "for tf_doc in corpus:\n",
    "    print(tfidf_model[tf_doc]) \n"
   ]
  },
  {
   "cell_type": "markdown",
   "metadata": {},
   "source": [
    "### Memo\n",
    "- The words appearing across many documents are not so important. So they are removed from corpus.\n",
    "- The words less appearing across many documents are so important. The word will be more informative.\n",
    "\n",
    "### Ref\n",
    "- [models.tfidfmodel – TF-IDF model](https://radimrehurek.com/gensim/models/tfidfmodel.html)\n",
    "- [tf–idf](https://en.wikipedia.org/wiki/Tf%E2%80%93idf)"
   ]
  }
 ],
 "metadata": {
  "kernelspec": {
   "display_name": "Python 3",
   "language": "python",
   "name": "python3"
  },
  "language_info": {
   "codemirror_mode": {
    "name": "ipython",
    "version": 3
   },
   "file_extension": ".py",
   "mimetype": "text/x-python",
   "name": "python",
   "nbconvert_exporter": "python",
   "pygments_lexer": "ipython3",
   "version": "3.6.5"
  }
 },
 "nbformat": 4,
 "nbformat_minor": 2
}
