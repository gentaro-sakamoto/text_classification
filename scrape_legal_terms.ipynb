{
 "cells": [
  {
   "cell_type": "code",
   "execution_count": 29,
   "metadata": {},
   "outputs": [
    {
     "name": "stdout",
     "output_type": "stream",
     "text": [
      "736\n"
     ]
    }
   ],
   "source": [
    "import requests\n",
    "from bs4 import BeautifulSoup\n",
    "import re\n",
    "import pprint\n",
    "\n",
    "regex = re.compile(\"[あ-ん]\")\n",
    "\n",
    "target_url = 'https://www.weblio.jp/cat/business/hrkyj'\n",
    "r = requests.get(target_url)\n",
    "soup = BeautifulSoup(r.text, 'html.parser')\n",
    "a_tags = soup.findAll('div', class_='mainWL')[0].find_all('a')\n",
    "weblio_legal_terms = []\n",
    "for a in a_tags:\n",
    "    r2 = requests.get(a.get('href'))\n",
    "    soup2 = BeautifulSoup(r2.text, 'html.parser')\n",
    "    a_tags = soup2.findAll('div', class_='CtgryLink')[0].find_all('a')\n",
    "    terms = list(map(lambda a: a.get('title'), filter(lambda a: not regex.match(a.get('title')), a_tags)))\n",
    "    weblio_legal_terms.extend(terms)\n",
    "print(len(weblio_legal_terms))"
   ]
  },
  {
   "cell_type": "code",
   "execution_count": 30,
   "metadata": {},
   "outputs": [],
   "source": [
    "import csv\n",
    "with open('dict/weblio_legal_terms.csv', 'a') as f:\n",
    "    for word in weblio_legal_terms:        \n",
    "        writer = csv.writer(f)\n",
    "        writer.writerow([word, '', '', '1', '名詞', '固有名詞', '一般', '*', '*', '*', word, '*', '*'])\n"
   ]
  },
  {
   "cell_type": "code",
   "execution_count": null,
   "metadata": {},
   "outputs": [],
   "source": []
  }
 ],
 "metadata": {
  "kernelspec": {
   "display_name": "Python 3",
   "language": "python",
   "name": "python3"
  },
  "language_info": {
   "codemirror_mode": {
    "name": "ipython",
    "version": 3
   },
   "file_extension": ".py",
   "mimetype": "text/x-python",
   "name": "python",
   "nbconvert_exporter": "python",
   "pygments_lexer": "ipython3",
   "version": "3.6.5"
  }
 },
 "nbformat": 4,
 "nbformat_minor": 2
}
