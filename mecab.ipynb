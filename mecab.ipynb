{
 "cells": [
  {
   "cell_type": "code",
   "execution_count": 1,
   "metadata": {},
   "outputs": [
    {
     "name": "stdout",
     "output_type": "stream",
     "text": [
      "[('名詞', '安全配慮義務')]\n"
     ]
    }
   ],
   "source": [
    "encoding = \"utf-8\"\n",
    "\n",
    "import MeCab\n",
    "from IPython import embed\n",
    "from IPython.terminal.embed import InteractiveShellEmbed\n",
    "import os\n",
    "from gensim import corpora\n",
    "import re\n",
    "import simplejson\n",
    "\n",
    "text= u'安全配慮義務ですよ'\n",
    "mecab = MeCab.Tagger ('-d /usr/local/lib/mecab/dic/mecab-ipadic-neologd')\n",
    "mecab.parse('') # https://qiita.com/piruty/items/ce218090eae53b775b79\n",
    "node = mecab.parseToNode(text)\n",
    "words = []\n",
    "while node:\n",
    "    pos = node.feature.split(\",\")[0]\n",
    "    if pos == u'名詞':\n",
    "        words.append((pos, node.surface))\n",
    "    node = node.next\n",
    "\n",
    "    \n",
    "print(words)"
   ]
  },
  {
   "cell_type": "code",
   "execution_count": null,
   "metadata": {},
   "outputs": [],
   "source": []
  },
  {
   "cell_type": "code",
   "execution_count": null,
   "metadata": {},
   "outputs": [],
   "source": []
  },
  {
   "cell_type": "code",
   "execution_count": null,
   "metadata": {},
   "outputs": [],
   "source": []
  }
 ],
 "metadata": {
  "kernelspec": {
   "display_name": "Python 3",
   "language": "python",
   "name": "python3"
  },
  "language_info": {
   "codemirror_mode": {
    "name": "ipython",
    "version": 3
   },
   "file_extension": ".py",
   "mimetype": "text/x-python",
   "name": "python",
   "nbconvert_exporter": "python",
   "pygments_lexer": "ipython3",
   "version": "3.6.5"
  }
 },
 "nbformat": 4,
 "nbformat_minor": 2
}
